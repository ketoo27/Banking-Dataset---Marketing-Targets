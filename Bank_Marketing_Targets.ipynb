{
 "cells": [
  {
   "cell_type": "markdown",
   "id": "0c77defd-9349-40f7-9ffe-e12dc1583eb2",
   "metadata": {},
   "source": [
    "# Project Title:-Banking Dataset Marketing Targets"
   ]
  },
  {
   "cell_type": "markdown",
   "id": "89021302-935c-4ca7-9bf5-a391aa9669e2",
   "metadata": {},
   "source": [
    "\n",
    "This project involves building a machine learning model to identify potential marketing targets for a\r\n",
    "bank based on customer data. The goal is to predict whether a customer will respond positively to a\r\n",
    "marketing campaign."
   ]
  },
  {
   "cell_type": "markdown",
   "id": "e9b388d1-9414-47dd-a287-50010c50d28d",
   "metadata": {},
   "source": [
    "### Objective: Develop a machine learning model to predict customer response to a marketing campaign andd identify potential marketing targets."
   ]
  },
  {
   "cell_type": "markdown",
   "id": "6c058684-42ab-4784-beec-e557b0ed08d4",
   "metadata": {},
   "source": [
    "Import necessary libraries:\n"
   ]
  },
  {
   "cell_type": "code",
   "execution_count": 25,
   "id": "e6a8c08c-a989-4f9e-83ff-48ed6d54df7a",
   "metadata": {},
   "outputs": [],
   "source": [
    "import pandas as pd\n",
    "from sklearn.model_selection import train_test_split\n",
    "from sklearn.preprocessing import LabelEncoder, StandardScaler\n",
    "from sklearn.ensemble import RandomForestClassifier\n",
    "from sklearn.metrics import classification_report"
   ]
  },
  {
   "cell_type": "markdown",
   "id": "3167654b-0d01-4d47-990f-567cd5298381",
   "metadata": {},
   "source": [
    "### Data Collection"
   ]
  },
  {
   "cell_type": "code",
   "execution_count": 16,
   "id": "5e8d4575-c2c0-45bc-b121-42b57ed236b8",
   "metadata": {},
   "outputs": [],
   "source": [
    "df = pd.read_csv(\"bank-full.csv\",sep=';')"
   ]
  },
  {
   "cell_type": "code",
   "execution_count": 17,
   "id": "3d37aa1d-1dfa-4644-8c9a-a93c26dca08d",
   "metadata": {},
   "outputs": [
    {
     "data": {
      "text/html": [
       "<div>\n",
       "<style scoped>\n",
       "    .dataframe tbody tr th:only-of-type {\n",
       "        vertical-align: middle;\n",
       "    }\n",
       "\n",
       "    .dataframe tbody tr th {\n",
       "        vertical-align: top;\n",
       "    }\n",
       "\n",
       "    .dataframe thead th {\n",
       "        text-align: right;\n",
       "    }\n",
       "</style>\n",
       "<table border=\"1\" class=\"dataframe\">\n",
       "  <thead>\n",
       "    <tr style=\"text-align: right;\">\n",
       "      <th></th>\n",
       "      <th>age</th>\n",
       "      <th>job</th>\n",
       "      <th>marital</th>\n",
       "      <th>education</th>\n",
       "      <th>default</th>\n",
       "      <th>balance</th>\n",
       "      <th>housing</th>\n",
       "      <th>loan</th>\n",
       "      <th>contact</th>\n",
       "      <th>day</th>\n",
       "      <th>month</th>\n",
       "      <th>duration</th>\n",
       "      <th>campaign</th>\n",
       "      <th>pdays</th>\n",
       "      <th>previous</th>\n",
       "      <th>poutcome</th>\n",
       "      <th>y</th>\n",
       "    </tr>\n",
       "  </thead>\n",
       "  <tbody>\n",
       "    <tr>\n",
       "      <th>0</th>\n",
       "      <td>58</td>\n",
       "      <td>management</td>\n",
       "      <td>married</td>\n",
       "      <td>tertiary</td>\n",
       "      <td>no</td>\n",
       "      <td>2143</td>\n",
       "      <td>yes</td>\n",
       "      <td>no</td>\n",
       "      <td>unknown</td>\n",
       "      <td>5</td>\n",
       "      <td>may</td>\n",
       "      <td>261</td>\n",
       "      <td>1</td>\n",
       "      <td>-1</td>\n",
       "      <td>0</td>\n",
       "      <td>unknown</td>\n",
       "      <td>no</td>\n",
       "    </tr>\n",
       "    <tr>\n",
       "      <th>1</th>\n",
       "      <td>44</td>\n",
       "      <td>technician</td>\n",
       "      <td>single</td>\n",
       "      <td>secondary</td>\n",
       "      <td>no</td>\n",
       "      <td>29</td>\n",
       "      <td>yes</td>\n",
       "      <td>no</td>\n",
       "      <td>unknown</td>\n",
       "      <td>5</td>\n",
       "      <td>may</td>\n",
       "      <td>151</td>\n",
       "      <td>1</td>\n",
       "      <td>-1</td>\n",
       "      <td>0</td>\n",
       "      <td>unknown</td>\n",
       "      <td>no</td>\n",
       "    </tr>\n",
       "    <tr>\n",
       "      <th>2</th>\n",
       "      <td>33</td>\n",
       "      <td>entrepreneur</td>\n",
       "      <td>married</td>\n",
       "      <td>secondary</td>\n",
       "      <td>no</td>\n",
       "      <td>2</td>\n",
       "      <td>yes</td>\n",
       "      <td>yes</td>\n",
       "      <td>unknown</td>\n",
       "      <td>5</td>\n",
       "      <td>may</td>\n",
       "      <td>76</td>\n",
       "      <td>1</td>\n",
       "      <td>-1</td>\n",
       "      <td>0</td>\n",
       "      <td>unknown</td>\n",
       "      <td>no</td>\n",
       "    </tr>\n",
       "    <tr>\n",
       "      <th>3</th>\n",
       "      <td>47</td>\n",
       "      <td>blue-collar</td>\n",
       "      <td>married</td>\n",
       "      <td>unknown</td>\n",
       "      <td>no</td>\n",
       "      <td>1506</td>\n",
       "      <td>yes</td>\n",
       "      <td>no</td>\n",
       "      <td>unknown</td>\n",
       "      <td>5</td>\n",
       "      <td>may</td>\n",
       "      <td>92</td>\n",
       "      <td>1</td>\n",
       "      <td>-1</td>\n",
       "      <td>0</td>\n",
       "      <td>unknown</td>\n",
       "      <td>no</td>\n",
       "    </tr>\n",
       "    <tr>\n",
       "      <th>4</th>\n",
       "      <td>33</td>\n",
       "      <td>unknown</td>\n",
       "      <td>single</td>\n",
       "      <td>unknown</td>\n",
       "      <td>no</td>\n",
       "      <td>1</td>\n",
       "      <td>no</td>\n",
       "      <td>no</td>\n",
       "      <td>unknown</td>\n",
       "      <td>5</td>\n",
       "      <td>may</td>\n",
       "      <td>198</td>\n",
       "      <td>1</td>\n",
       "      <td>-1</td>\n",
       "      <td>0</td>\n",
       "      <td>unknown</td>\n",
       "      <td>no</td>\n",
       "    </tr>\n",
       "  </tbody>\n",
       "</table>\n",
       "</div>"
      ],
      "text/plain": [
       "   age           job  marital  education default  balance housing loan  \\\n",
       "0   58    management  married   tertiary      no     2143     yes   no   \n",
       "1   44    technician   single  secondary      no       29     yes   no   \n",
       "2   33  entrepreneur  married  secondary      no        2     yes  yes   \n",
       "3   47   blue-collar  married    unknown      no     1506     yes   no   \n",
       "4   33       unknown   single    unknown      no        1      no   no   \n",
       "\n",
       "   contact  day month  duration  campaign  pdays  previous poutcome   y  \n",
       "0  unknown    5   may       261         1     -1         0  unknown  no  \n",
       "1  unknown    5   may       151         1     -1         0  unknown  no  \n",
       "2  unknown    5   may        76         1     -1         0  unknown  no  \n",
       "3  unknown    5   may        92         1     -1         0  unknown  no  \n",
       "4  unknown    5   may       198         1     -1         0  unknown  no  "
      ]
     },
     "execution_count": 17,
     "metadata": {},
     "output_type": "execute_result"
    }
   ],
   "source": [
    "\n",
    "df.head()"
   ]
  },
  {
   "cell_type": "markdown",
   "id": "bae0be74-96cc-44a8-a89c-7145d0e68f2b",
   "metadata": {},
   "source": [
    "### Data Preprocessing"
   ]
  },
  {
   "cell_type": "markdown",
   "id": "739734b4-2798-44e6-b6c3-25e525e53967",
   "metadata": {},
   "source": [
    "check for null values"
   ]
  },
  {
   "cell_type": "code",
   "execution_count": 18,
   "id": "3e574713-0e17-40b3-9a42-bd9db2a9ec39",
   "metadata": {},
   "outputs": [
    {
     "data": {
      "text/plain": [
       "age          0\n",
       "job          0\n",
       "marital      0\n",
       "education    0\n",
       "default      0\n",
       "balance      0\n",
       "housing      0\n",
       "loan         0\n",
       "contact      0\n",
       "day          0\n",
       "month        0\n",
       "duration     0\n",
       "campaign     0\n",
       "pdays        0\n",
       "previous     0\n",
       "poutcome     0\n",
       "y            0\n",
       "dtype: int64"
      ]
     },
     "execution_count": 18,
     "metadata": {},
     "output_type": "execute_result"
    }
   ],
   "source": [
    "df.isnull().sum()"
   ]
  },
  {
   "cell_type": "markdown",
   "id": "1b1d32a4-6fe3-4456-b0d3-73ba5a701c51",
   "metadata": {},
   "source": [
    "We can see there are no null values so we can proceed further"
   ]
  },
  {
   "cell_type": "markdown",
   "id": "415b4f34-348c-4145-96f7-2a7412a9db36",
   "metadata": {},
   "source": [
    "### Exploratory Data Analysis (EDA)"
   ]
  },
  {
   "cell_type": "markdown",
   "id": "ccf8a90e-6e6a-47a7-bd8f-108841eb2c4d",
   "metadata": {},
   "source": [
    "lets check Correlation of this dataset"
   ]
  },
  {
   "cell_type": "code",
   "execution_count": 19,
   "id": "2f29089c-fa56-422b-a3b1-a7805c0cb3c2",
   "metadata": {},
   "outputs": [
    {
     "data": {
      "text/html": [
       "<div>\n",
       "<style scoped>\n",
       "    .dataframe tbody tr th:only-of-type {\n",
       "        vertical-align: middle;\n",
       "    }\n",
       "\n",
       "    .dataframe tbody tr th {\n",
       "        vertical-align: top;\n",
       "    }\n",
       "\n",
       "    .dataframe thead th {\n",
       "        text-align: right;\n",
       "    }\n",
       "</style>\n",
       "<table border=\"1\" class=\"dataframe\">\n",
       "  <thead>\n",
       "    <tr style=\"text-align: right;\">\n",
       "      <th></th>\n",
       "      <th>age</th>\n",
       "      <th>balance</th>\n",
       "      <th>day</th>\n",
       "      <th>duration</th>\n",
       "      <th>campaign</th>\n",
       "      <th>pdays</th>\n",
       "      <th>previous</th>\n",
       "    </tr>\n",
       "  </thead>\n",
       "  <tbody>\n",
       "    <tr>\n",
       "      <th>age</th>\n",
       "      <td>1.000000</td>\n",
       "      <td>0.097783</td>\n",
       "      <td>-0.009120</td>\n",
       "      <td>-0.004648</td>\n",
       "      <td>0.004760</td>\n",
       "      <td>-0.023758</td>\n",
       "      <td>0.001288</td>\n",
       "    </tr>\n",
       "    <tr>\n",
       "      <th>balance</th>\n",
       "      <td>0.097783</td>\n",
       "      <td>1.000000</td>\n",
       "      <td>0.004503</td>\n",
       "      <td>0.021560</td>\n",
       "      <td>-0.014578</td>\n",
       "      <td>0.003435</td>\n",
       "      <td>0.016674</td>\n",
       "    </tr>\n",
       "    <tr>\n",
       "      <th>day</th>\n",
       "      <td>-0.009120</td>\n",
       "      <td>0.004503</td>\n",
       "      <td>1.000000</td>\n",
       "      <td>-0.030206</td>\n",
       "      <td>0.162490</td>\n",
       "      <td>-0.093044</td>\n",
       "      <td>-0.051710</td>\n",
       "    </tr>\n",
       "    <tr>\n",
       "      <th>duration</th>\n",
       "      <td>-0.004648</td>\n",
       "      <td>0.021560</td>\n",
       "      <td>-0.030206</td>\n",
       "      <td>1.000000</td>\n",
       "      <td>-0.084570</td>\n",
       "      <td>-0.001565</td>\n",
       "      <td>0.001203</td>\n",
       "    </tr>\n",
       "    <tr>\n",
       "      <th>campaign</th>\n",
       "      <td>0.004760</td>\n",
       "      <td>-0.014578</td>\n",
       "      <td>0.162490</td>\n",
       "      <td>-0.084570</td>\n",
       "      <td>1.000000</td>\n",
       "      <td>-0.088628</td>\n",
       "      <td>-0.032855</td>\n",
       "    </tr>\n",
       "    <tr>\n",
       "      <th>pdays</th>\n",
       "      <td>-0.023758</td>\n",
       "      <td>0.003435</td>\n",
       "      <td>-0.093044</td>\n",
       "      <td>-0.001565</td>\n",
       "      <td>-0.088628</td>\n",
       "      <td>1.000000</td>\n",
       "      <td>0.454820</td>\n",
       "    </tr>\n",
       "    <tr>\n",
       "      <th>previous</th>\n",
       "      <td>0.001288</td>\n",
       "      <td>0.016674</td>\n",
       "      <td>-0.051710</td>\n",
       "      <td>0.001203</td>\n",
       "      <td>-0.032855</td>\n",
       "      <td>0.454820</td>\n",
       "      <td>1.000000</td>\n",
       "    </tr>\n",
       "  </tbody>\n",
       "</table>\n",
       "</div>"
      ],
      "text/plain": [
       "               age   balance       day  duration  campaign     pdays  previous\n",
       "age       1.000000  0.097783 -0.009120 -0.004648  0.004760 -0.023758  0.001288\n",
       "balance   0.097783  1.000000  0.004503  0.021560 -0.014578  0.003435  0.016674\n",
       "day      -0.009120  0.004503  1.000000 -0.030206  0.162490 -0.093044 -0.051710\n",
       "duration -0.004648  0.021560 -0.030206  1.000000 -0.084570 -0.001565  0.001203\n",
       "campaign  0.004760 -0.014578  0.162490 -0.084570  1.000000 -0.088628 -0.032855\n",
       "pdays    -0.023758  0.003435 -0.093044 -0.001565 -0.088628  1.000000  0.454820\n",
       "previous  0.001288  0.016674 -0.051710  0.001203 -0.032855  0.454820  1.000000"
      ]
     },
     "execution_count": 19,
     "metadata": {},
     "output_type": "execute_result"
    }
   ],
   "source": [
    "df.corr(numeric_only=True)"
   ]
  },
  {
   "cell_type": "markdown",
   "id": "d6c03eb7-3e24-4d65-be3a-ebf824d96fcb",
   "metadata": {},
   "source": [
    "Plotting the Heatmap of correlation matrix"
   ]
  },
  {
   "cell_type": "code",
   "execution_count": 27,
   "id": "a9374539-20e3-47a2-af2e-fbea728d3b9d",
   "metadata": {},
   "outputs": [
    {
     "data": {
      "application/javascript": [
       "\n",
       "        if (window._pyforest_update_imports_cell) { window._pyforest_update_imports_cell('import seaborn as sns\\nimport numpy as np'); }\n",
       "    "
      ],
      "text/plain": [
       "<IPython.core.display.Javascript object>"
      ]
     },
     "metadata": {},
     "output_type": "display_data"
    },
    {
     "data": {
      "text/plain": [
       "<Axes: >"
      ]
     },
     "execution_count": 27,
     "metadata": {},
     "output_type": "execute_result"
    },
    {
     "data": {
      "image/png": "[encoded data removed]",
      "text/plain": [
       "<Figure size 640x480 with 2 Axes>"
      ]
     },
     "metadata": {},
     "output_type": "display_data"
    }
   ],
   "source": [
    "sns.heatmap(df.corr(numeric_only=True))"
   ]
  },
  {
   "cell_type": "markdown",
   "id": "68b2f599-2001-439f-810a-04dcbea31b21",
   "metadata": {},
   "source": [
    "Let's plot joint graph of balance and age to understand the relationship between them"
   ]
  },
  {
   "cell_type": "code",
   "execution_count": 28,
   "id": "1a323b3d-17c3-4f9e-9708-3cad4a46031f",
   "metadata": {},
   "outputs": [
    {
     "data": {
      "application/javascript": [
       "\n",
       "        if (window._pyforest_update_imports_cell) { window._pyforest_update_imports_cell('import seaborn as sns\\nimport numpy as np'); }\n",
       "    "
      ],
      "text/plain": [
       "<IPython.core.display.Javascript object>"
      ]
     },
     "metadata": {},
     "output_type": "display_data"
    },
    {
     "name": "stderr",
     "output_type": "stream",
     "text": [
      "C:\\Users\\tikul\\anaconda3\\Lib\\site-packages\\seaborn\\_oldcore.py:1119: FutureWarning: use_inf_as_na option is deprecated and will be removed in a future version. Convert inf values to NaN before operating instead.\n",
      "  with pd.option_context('mode.use_inf_as_na', True):\n",
      "C:\\Users\\tikul\\anaconda3\\Lib\\site-packages\\seaborn\\_oldcore.py:1119: FutureWarning: use_inf_as_na option is deprecated and will be removed in a future version. Convert inf values to NaN before operating instead.\n",
      "  with pd.option_context('mode.use_inf_as_na', True):\n"
     ]
    },
    {
     "data": {
      "text/plain": [
       "<seaborn.axisgrid.JointGrid at 0x1d4ff1ad610>"
      ]
     },
     "execution_count": 28,
     "metadata": {},
     "output_type": "execute_result"
    },
    {
     "data": {
      "image/png": "[encoded data removed]",
      "text/plain": [
       "<Figure size 600x600 with 3 Axes>"
      ]
     },
     "metadata": {},
     "output_type": "display_data"
    }
   ],
   "source": [
    "sns.jointplot(x='balance',y='age',data=df,kind='hex',xlim=10000)"
   ]
  },
  {
   "cell_type": "markdown",
   "id": "ca3ad39b-bd0a-4305-901c-f5bea450caa3",
   "metadata": {},
   "source": [
    "From above graph we can see that the age majority lies between 20 to 65 and the balance is concentrated below 2000"
   ]
  },
  {
   "cell_type": "markdown",
   "id": "1790c859-a6f7-4b08-86ef-d12b62df5731",
   "metadata": {},
   "source": [
    "Let's move further and plot joint graph of Pdays and previous columns"
   ]
  },
  {
   "cell_type": "code",
   "execution_count": 24,
   "id": "0072e7fa-5e46-439c-bcc7-70d393bd7719",
   "metadata": {},
   "outputs": [
    {
     "data": {
      "application/javascript": [
       "\n",
       "        if (window._pyforest_update_imports_cell) { window._pyforest_update_imports_cell('import seaborn as sns'); }\n",
       "    "
      ],
      "text/plain": [
       "<IPython.core.display.Javascript object>"
      ]
     },
     "metadata": {},
     "output_type": "display_data"
    },
    {
     "name": "stderr",
     "output_type": "stream",
     "text": [
      "C:\\Users\\tikul\\anaconda3\\Lib\\site-packages\\seaborn\\_oldcore.py:1119: FutureWarning: use_inf_as_na option is deprecated and will be removed in a future version. Convert inf values to NaN before operating instead.\n",
      "  with pd.option_context('mode.use_inf_as_na', True):\n",
      "C:\\Users\\tikul\\anaconda3\\Lib\\site-packages\\seaborn\\_oldcore.py:1119: FutureWarning: use_inf_as_na option is deprecated and will be removed in a future version. Convert inf values to NaN before operating instead.\n",
      "  with pd.option_context('mode.use_inf_as_na', True):\n"
     ]
    },
    {
     "data": {
      "text/plain": [
       "<seaborn.axisgrid.JointGrid at 0x1d4feeccf10>"
      ]
     },
     "execution_count": 24,
     "metadata": {},
     "output_type": "execute_result"
    },
    {
     "data": {
      "image/png": "[encoded data removed]",
      "text/plain": [
       "<Figure size 600x600 with 3 Axes>"
      ]
     },
     "metadata": {},
     "output_type": "display_data"
    }
   ],
   "source": [
    "sns.jointplot(x='pdays',y='previous',data=df,kind='hex')"
   ]
  },
  {
   "cell_type": "markdown",
   "id": "84ecad06-721e-4502-b302-9410c4bde1b4",
   "metadata": {},
   "source": [
    "As we can see P days and previous days are concentrated at Arond 0 Hence you cannot consider this correlation"
   ]
  },
  {
   "cell_type": "markdown",
   "id": "993c030f-0812-4e1c-8197-38fcc935133e",
   "metadata": {},
   "source": [
    "Now lets plot joint graph of Day and campaign"
   ]
  },
  {
   "cell_type": "code",
   "execution_count": 112,
   "id": "8d1fc8e6-d4a7-452f-aaf1-ca36b9bae4db",
   "metadata": {},
   "outputs": [
    {
     "data": {
      "application/javascript": [
       "\n",
       "        if (window._pyforest_update_imports_cell) { window._pyforest_update_imports_cell('import seaborn as sns'); }\n",
       "    "
      ],
      "text/plain": [
       "<IPython.core.display.Javascript object>"
      ]
     },
     "metadata": {},
     "output_type": "display_data"
    },
    {
     "name": "stderr",
     "output_type": "stream",
     "text": [
      "C:\\Users\\tikul\\anaconda3\\Lib\\site-packages\\seaborn\\_oldcore.py:1119: FutureWarning: use_inf_as_na option is deprecated and will be removed in a future version. Convert inf values to NaN before operating instead.\n",
      "  with pd.option_context('mode.use_inf_as_na', True):\n",
      "C:\\Users\\tikul\\anaconda3\\Lib\\site-packages\\seaborn\\_oldcore.py:1119: FutureWarning: use_inf_as_na option is deprecated and will be removed in a future version. Convert inf values to NaN before operating instead.\n",
      "  with pd.option_context('mode.use_inf_as_na', True):\n"
     ]
    },
    {
     "data": {
      "text/plain": [
       "<seaborn.axisgrid.JointGrid at 0x25baca33e10>"
      ]
     },
     "execution_count": 112,
     "metadata": {},
     "output_type": "execute_result"
    },
    {
     "data": {
      "image/png": "[encoded data removed]",
      "text/plain": [
       "<Figure size 600x600 with 3 Axes>"
      ]
     },
     "metadata": {},
     "output_type": "display_data"
    }
   ],
   "source": [
    "sns.jointplot(x='day',y='campaign',data=df,kind='hex')"
   ]
  },
  {
   "cell_type": "markdown",
   "id": "34fc5f50-8854-430d-82e4-e30b6bb4c591",
   "metadata": {},
   "source": [
    "Split data into features and target variable\n"
   ]
  },
  {
   "cell_type": "code",
   "execution_count": 29,
   "id": "4223a1ed-b681-46b8-a4c0-1ceaf0196c1e",
   "metadata": {},
   "outputs": [],
   "source": [
    "X = df.drop(\"y\", axis=1)\n",
    "y = df[\"y\"]"
   ]
  },
  {
   "cell_type": "markdown",
   "id": "d4d7a33a-e95a-4438-bef3-0bdd76f7f8b0",
   "metadata": {},
   "source": [
    "### Data Preprocessing"
   ]
  },
  {
   "cell_type": "markdown",
   "id": "58546ea9-ce25-46db-897f-82b76ca864c2",
   "metadata": {},
   "source": [
    "Encoding Categorical Variables:\n",
    "To make categorical data usable by machine learning algorithms, which require numerical input, we encoded the categorical variables using LabelEncoder. The categorical columns in the dataset included \"job\", \"marital\", \"education\", \"default\", \"housing\", \"loan\", \"contact\", \"month\", and \"poutcome\". For each of these columns:\n",
    "\n",
    "We initialized a LabelEncoder object.\n",
    "The fit_transform method was applied to convert each category into a unique integer.\n",
    "We stored the LabelEncoder objects in a dictionary (label_encoders) for each column, allowing us to reverse the encoding later if necessary."
   ]
  },
  {
   "cell_type": "code",
   "execution_count": 94,
   "id": "5069ea7f-d1fb-4196-b2e2-1b55a18b4221",
   "metadata": {},
   "outputs": [],
   "source": [
    "#Encode categorical variables:\n",
    "label_encoders = {}\n",
    "categorical_cols = [\"job\", \"marital\", \"education\", \"default\", \"housing\", \"loan\", \"contact\", \"month\", \"poutcome\"]\n",
    "for col in categorical_cols:\n",
    "    le = LabelEncoder()\n",
    "    X[col] = le.fit_transform(X[col])\n",
    "    label_encoders[col] = le"
   ]
  },
  {
   "cell_type": "markdown",
   "id": "4e57493a-b259-44ab-9a9a-274d50366be2",
   "metadata": {},
   "source": [
    "Scaling Numerical Features:\n",
    "To ensure that the numerical features had a standard scale, which is crucial for many machine learning algorithms, we applied StandardScaler. The numerical columns in the dataset included \"age\", \"balance\", \"day\", \"duration\", \"campaign\", \"pdays\", and \"previous\". The scaler standardizes the data by removing the mean and scaling it to unit variance:\n",
    "\n",
    "We initialized a StandardScaler object.\n",
    "The fit_transform method was applied to scale the numerical features, transforming them into a standard normal distribution with a mean of 0 and a standard deviation of 1."
   ]
  },
  {
   "cell_type": "code",
   "execution_count": 95,
   "id": "0339cbdd-5a2c-4794-8f72-102b422d9947",
   "metadata": {},
   "outputs": [],
   "source": [
    "#Scale numerical features:\n",
    "scaler = StandardScaler()\n",
    "numerical_cols = [\"age\", \"balance\", \"day\", \"duration\", \"campaign\", \"pdays\", \"previous\"]\n",
    "X[numerical_cols] = scaler.fit_transform(X[numerical_cols])"
   ]
  },
  {
   "cell_type": "markdown",
   "id": "87b34144-6fb3-40d7-8f6f-403d568ede08",
   "metadata": {},
   "source": [
    "By encoding categorical variables and scaling numerical features, we ensured that the data was in a format suitable for training the machine learning model, enhancing the model's performance and interpretability."
   ]
  },
  {
   "cell_type": "markdown",
   "id": "ac950b4f-43f9-4475-9e75-63951d17fe7e",
   "metadata": {},
   "source": [
    "Split data into training and testing sets:"
   ]
  },
  {
   "cell_type": "code",
   "execution_count": 30,
   "id": "39c5f2d7-4fda-4b5c-8e19-45424cba5adb",
   "metadata": {},
   "outputs": [],
   "source": [
    "X_train, X_test, y_train, y_test = train_test_split(X, y, test_size=0.2, random_state=42)"
   ]
  },
  {
   "cell_type": "markdown",
   "id": "957d9efe-7930-4cea-a88b-4f04b914f156",
   "metadata": {},
   "source": [
    "Feature Engineering:\n",
    "\n",
    "Given the imbalance in the dataset, with a large number of negative data points and fewer positive ones, we introduced a new feature called age_balance_ratio to improve model performance. This feature is calculated as the ratio of a customer's age to their account balance, potentially providing more informative insights for the model.\n",
    "\n",
    "age_balance_ratio: This feature is derived by dividing the age of each individual by their balance. By creating this ratio, we aim to capture the relationship between a customer's age and their financial status, which might help the model differentiate more effectively between positive and negative outcomes."
   ]
  },
  {
   "cell_type": "code",
   "execution_count": 97,
   "id": "50ac31b7-304b-4a20-a995-61c2c7e958fc",
   "metadata": {},
   "outputs": [],
   "source": [
    "# Let's create some new features that might be more informative\n",
    "X_train['age_balance_ratio'] = X_train['age'] / X_train['balance']\n",
    "X_test['age_balance_ratio'] = X_test['age'] / X_test['balance']"
   ]
  },
  {
   "cell_type": "markdown",
   "id": "32597a43-6d3b-44a7-821a-ced73ad5782f",
   "metadata": {},
   "source": [
    "Handling Imbalanced Data:\n",
    "\n",
    "To address the challenge of having a large number of negative data points compared to positive ones, we employed Tomek Links undersampling. This technique helps to balance the dataset by removing specific data points that are likely to be noise or redundant.\n",
    "\n",
    "Tomek Links Undersampling: We used the TomekLinks method from the imblearn library to reduce the majority class (negative data points) in our dataset. Tomek Links identify pairs of closely related points from opposite classes where the removal of one instance (from the majority class) helps in making the decision boundary between the classes clearer. This step was crucial for improving the model's ability to learn from the more critical positive data points."
   ]
  },
  {
   "cell_type": "code",
   "execution_count": 98,
   "id": "e3ad0d8b-ef20-4903-bd54-f50861d07379",
   "metadata": {},
   "outputs": [],
   "source": [
    "#Undersampling with Tomek Links\n",
    "from imblearn.under_sampling import TomekLinks\n",
    "\n",
    "# Apply Tomek Links undersampling\n",
    "tl = TomekLinks(sampling_strategy='majority')\n",
    "X_undersampled, y_undersampled = tl.fit_resample(X_train, y_train)"
   ]
  },
  {
   "cell_type": "markdown",
   "id": "a799cf81-5c81-4b11-8b5c-8717658e3059",
   "metadata": {},
   "source": [
    "### Model Selection"
   ]
  },
  {
   "cell_type": "code",
   "execution_count": 99,
   "id": "a89c8911-8ce1-4a39-9e1d-5c796ee8d47e",
   "metadata": {},
   "outputs": [],
   "source": [
    "#Create and train a Random Forest Classifier\n",
    "rf_model = RandomForestClassifier(random_state=42)"
   ]
  },
  {
   "cell_type": "markdown",
   "id": "d5ef6657-78fd-4a66-8c4e-4756f2ca4ac4",
   "metadata": {},
   "source": [
    "Random Forest Classifier:\n",
    "\n",
    "We initialized a Random Forest Classifier with a fixed random_state to ensure reproducibility. This ensemble learning method combines multiple decision trees to improve accuracy and prevent overfitting."
   ]
  },
  {
   "cell_type": "code",
   "execution_count": 100,
   "id": "2bfe86e9-cb32-43c2-a03e-802b70ca5298",
   "metadata": {},
   "outputs": [
    {
     "name": "stdout",
     "output_type": "stream",
     "text": [
      "              precision    recall  f1-score   support\n",
      "\n",
      "          no       0.93      0.96      0.95      7952\n",
      "         yes       0.64      0.47      0.54      1091\n",
      "\n",
      "    accuracy                           0.90      9043\n",
      "   macro avg       0.78      0.72      0.74      9043\n",
      "weighted avg       0.89      0.90      0.90      9043\n",
      "\n"
     ]
    }
   ],
   "source": [
    "#train the model on the undersampled data\n",
    "rf_model.fit(X_undersampled, y_undersampled)\n",
    "\n",
    "# Make predictions\n",
    "y_pred = rf_model.predict(X_test)\n",
    "\n",
    "# Evaluate the model\n",
    "print(classification_report(y_test, y_pred))"
   ]
  },
  {
   "cell_type": "markdown",
   "id": "f0ba9a99-128e-4cdb-bc1f-02a501d87253",
   "metadata": {},
   "source": [
    "Overall Accuracy: 90% accuracy is generally good, indicating that the model is correctly predicting most instances.\n",
    "\n",
    "Model Evaluation:\n",
    "\n",
    "The classification report provides a detailed evaluation of the model's performance on the test data:\n",
    "\n",
    "Precision: The model achieved a precision of 0.93 for the \"no\" class and 0.64 for the \"yes\" class. This indicates that when the model predicts \"no,\" it is correct 93% of the time, while predictions of \"yes\" are correct 64% of the time.\n",
    "\n",
    "Recall: The recall for the \"no\" class is 0.96, meaning the model correctly identifies 96% of the actual \"no\" instances. For the \"yes\" class, the recall is 0.47, showing the model correctly identifies 47% of the actual \"yes\" instances.\n",
    "\n",
    "F1-Score: The F1-score, which balances precision and recall, is 0.95 for the \"no\" class and 0.54 for the \"yes\" class. This indicates a strong performance for the \"no\" class and moderate performance for the \"yes\" class.\n",
    "\n",
    "Accuracy: The overall accuracy of the model is 90%, indicating that the model correctly classifies 90% of the instances.\n",
    "\n",
    "Macro Avg & Weighted Avg: The macro average and weighted average F1-scores are 0.74 and 0.90, respectively. The macro average treats all classes equally, while the weighted average accounts for class imbalance.\n",
    "\n",
    "This evaluation highlights that while the model performs well overall, it struggles more with the minority \"yes\" class, which is typical in imbalanced datasets."
   ]
  },
  {
   "cell_type": "code",
   "execution_count": 101,
   "id": "81e4b3aa-4296-476c-b80f-7e17a66aaa65",
   "metadata": {},
   "outputs": [
    {
     "data": {
      "image/png": "[encoded data removed]",
      "text/plain": [
       "<Figure size 800x600 with 1 Axes>"
      ]
     },
     "metadata": {},
     "output_type": "display_data"
    }
   ],
   "source": [
    "from sklearn.metrics import roc_curve, auc\n",
    "import matplotlib.pyplot as plt\n",
    "\n",
    "# Get predicted probabilities\n",
    "y_probs = rf_model.predict_proba(X_test)[:, 1]\n",
    "\n",
    "# Encode y_test labels (assuming \"yes\" is the positive class)\n",
    "from sklearn.preprocessing import LabelEncoder\n",
    "\n",
    "le = LabelEncoder()\n",
    "y_test_encoded = le.fit_transform(y_test)\n",
    "\n",
    "# Calculate FPR and TPR\n",
    "fpr, tpr, thresholds = roc_curve(y_test_encoded, y_probs)\n",
    "\n",
    "# Calculate AUC\n",
    "roc_auc = auc(fpr, tpr)\n",
    "\n",
    "# Plot ROC curve\n",
    "plt.figure(figsize=(8, 6))\n",
    "plt.plot(fpr, tpr, color='darkorange', lw=2, label='ROC curve (area = %0.2f)' % roc_auc)\n",
    "plt.plot([0, 1], [0, 1], color='navy', lw=2, linestyle='--')\n",
    "plt.xlim([0.0, 1.0])\n",
    "plt.ylim([0.0, 1.05])\n",
    "plt.xlabel('False Positive Rate')\n",
    "plt.ylabel('True Positive Rate')\n",
    "plt.title('Receiver Operating Characteristic Curve')\n",
    "plt.legend(loc=\"lower right\")\n",
    "plt.show()"
   ]
  },
  {
   "cell_type": "markdown",
   "id": "7ee40f04-f462-4ad7-9996-3bf6b1d2e5cf",
   "metadata": {},
   "source": [
    "The ROC curve (Receiver Operating Characteristic Curve) is a graphical representation of a classification model's performance at different classification thresholds.\n",
    "\n",
    " The area under the curve (AUC) provides a single metric to assess the model's overall ability to distinguish between positive and negative classes. \n",
    "\n",
    "An AUC of 0.92 indicates that your model is performing well.\n",
    "\n",
    " Here's what it means:   \n",
    "\n",
    "92% Probability: The model has a 92% probability of correctly distinguishing between positive and negative cases.   \n",
    "Good Discrimination: A higher AUC means the model is better at separating the two classes.   \n",
    "Trade-off: The ROC curve shows how the model's sensitivity (true positive rate) and specificity (true negative rate) change as the classification threshold varies. \n",
    "\n",
    "n AUC of 0.92 suggests that your model is reasonably good at predicting customer response to the marketing campaign. "
   ]
  },
  {
   "cell_type": "code",
   "execution_count": 102,
   "id": "16ed2710-52b3-44f6-b87b-a317aa0f94e0",
   "metadata": {},
   "outputs": [
    {
     "name": "stdout",
     "output_type": "stream",
     "text": [
      "              Feature  Importance\n",
      "11           duration    0.284935\n",
      "16  age_balance_ratio    0.087571\n",
      "5             balance    0.087536\n",
      "0                 age    0.086388\n",
      "10              month    0.082723\n",
      "9                 day    0.076014\n",
      "15           poutcome    0.052438\n",
      "13              pdays    0.048813\n",
      "1                 job    0.041074\n",
      "12           campaign    0.031859\n",
      "6             housing    0.027746\n",
      "3           education    0.023560\n",
      "8             contact    0.020111\n",
      "14           previous    0.019405\n",
      "2             marital    0.019078\n",
      "7                loan    0.008976\n",
      "4             default    0.001773\n"
     ]
    }
   ],
   "source": [
    "importances = rf_model.feature_importances_\n",
    "feature_names = X_train.columns\n",
    "\n",
    "# Create a DataFrame for feature importance\n",
    "feature_importance_df = pd.DataFrame({'Feature': feature_names, 'Importance': importances})\n",
    "feature_importance_df = feature_importance_df.sort_values(by='Importance', ascending=False)\n",
    "\n",
    "print(feature_importance_df)"
   ]
  },
  {
   "cell_type": "markdown",
   "id": "c1ee086c-b7ff-4290-bcfc-2c94f7b27719",
   "metadata": {},
   "source": [
    "The provided feature importance scores reveal the relative importance of different attributes in predicting customer response to the marketing campaign. Here's a breakdown of the most influential factors:\n",
    "\n",
    "Top 5 Features:\n",
    "\n",
    "duration: The length of the marketing call is the most significant predictor, suggesting that longer conversations might increase the likelihood of a positive response.\n",
    "age_balance_ratio: The ratio of the customer's age to their balance is also influential. This might indicate that older customers with higher balances are more likely to respond.\n",
    "balance: The customer's financial balance is another important factor, suggesting that customers with higher balances might be more likely to respond.\n",
    "age: The customer's age also plays a role, though to a lesser extent than the previous features.\n",
    "month: The month in which the campaign was conducted might also influence response rates.\n",
    "Less Influential Features:\n",
    "\n",
    "poutcome, pdays, contact, job, marital, education, housing, loan, and default have relatively low importance, suggesting that they might not be as strong predictors of customer response."
   ]
  },
  {
   "cell_type": "markdown",
   "id": "9ff5c68d-be02-4722-98d4-bff3dbef7add",
   "metadata": {},
   "source": [
    "User Input Preprocessing and Prediction:\n",
    "\n",
    "In this section, we implemented functions to preprocess user input and generate predictions using the trained Random Forest model:\n",
    "\n",
    "Preprocess User Input:\n",
    "The preprocess_input function converts user input into a DataFrame and applies necessary transformations:\n",
    "\n",
    "Categorical features are label-encoded using pre-fitted encoders.\n",
    "Numerical features are scaled using the pre-fitted scaler.\n",
    "The interaction term age_balance_ratio is calculated by dividing age by balance.\n",
    "Predict Using User Input:\n",
    "The predict_user_input function preprocesses the input and then predicts the probability of a lead converting into a customer. The prediction is expressed as a percentage, providing an intuitive interpretation for the user.\n",
    "\n",
    "This process enables the model to make predictions based on new user data, ensuring that all preprocessing steps align with the trained model's expectations."
   ]
  },
  {
   "cell_type": "code",
   "execution_count": 127,
   "id": "0eba823c-a537-45ff-8a99-66bdbb8ee3f6",
   "metadata": {},
   "outputs": [
    {
     "name": "stdout",
     "output_type": "stream",
     "text": [
      "The probability of lead converting into a customer is 76.00%\n"
     ]
    }
   ],
   "source": [
    "# Function to preprocess user input\n",
    "def preprocess_input(user_input):\n",
    "    # Convert user input to DataFrame\n",
    "    input_df = pd.DataFrame([user_input])\n",
    "    \n",
    "    # Apply label encoding for categorical features\n",
    "    for col in categorical_cols:\n",
    "        le = label_encoders[col]\n",
    "        input_df[col] = le.transform(input_df[col])\n",
    "    \n",
    "    # Apply scaling\n",
    "    input_df[numerical_cols] = scaler.transform(input_df[numerical_cols])\n",
    "    \n",
    "    # Create interaction term\n",
    "    input_df['age_balance_ratio'] = input_df['age'] / input_df['balance']\n",
    "    \n",
    "    return input_df\n",
    "\n",
    "\n",
    "# Function to predict using user input\n",
    "def predict_user_input(user_input):\n",
    "    try:\n",
    "        preprocessed_input = preprocess_input(user_input)\n",
    "        prediction_probs = rf_model.predict_proba(preprocessed_input)\n",
    "        prediction = prediction_probs[0][1] * 100  # Convert to percentage\n",
    "        return f'The probability of lead converting into a customer is {prediction:.2f}%'\n",
    "    except Exception as e:\n",
    "        return f'Error in prediction: {str(e)}'\n",
    "\n",
    "\n",
    "# Example usage\n",
    "user_input = {\n",
    "    'age': 41,\n",
    "    'job': 'technician',\n",
    "    'marital': 'married',\n",
    "    'education': 'secondary',\n",
    "    'default': 'no',\n",
    "    'balance': 1333,\n",
    "    'housing': 'yes',\n",
    "    'loan': 'no',\n",
    "    'contact': 'unknown',\n",
    "    'day': 6,\n",
    "    'month': 'may',\n",
    "    'duration': 1400,\n",
    "    'campaign': 1,\n",
    "    'pdays': 1,\n",
    "    'previous': 0,\n",
    "    'poutcome': 'unknown'\n",
    "}\n",
    "\n",
    "# Make prediction\n",
    "prediction_result = predict_user_input(user_input)\n",
    "print(prediction_result)"
   ]
  },
  {
   "cell_type": "markdown",
   "id": "9e264be9-9379-4b8d-918b-6393173ccd17",
   "metadata": {},
   "source": [
    "Prediction Result:\n",
    "\n",
    "The model predicts that the probability of the lead converting into a customer is 76.00%. This result is based on the user-provided data, which has been preprocessed and analyzed by the Random Forest model. The prediction gives a clear indication of the likelihood of the lead becoming a customer."
   ]
  }
 ],
 "metadata": {
  "kernelspec": {
   "display_name": "Python 3 (ipykernel)",
   "language": "python",
   "name": "python3"
  },
  "language_info": {
   "codemirror_mode": {
    "name": "ipython",
    "version": 3
   },
   "file_extension": ".py",
   "mimetype": "text/x-python",
   "name": "python",
   "nbconvert_exporter": "python",
   "pygments_lexer": "ipython3",
   "version": "3.11.7"
  }
 },
 "nbformat": 4,
 "nbformat_minor": 5
}
